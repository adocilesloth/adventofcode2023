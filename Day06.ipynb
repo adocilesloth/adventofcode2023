{
 "cells": [
  {
   "cell_type": "code",
   "execution_count": 1,
   "id": "89348c7e",
   "metadata": {},
   "outputs": [],
   "source": [
    "import numpy as np"
   ]
  },
  {
   "cell_type": "code",
   "execution_count": 2,
   "id": "25ae75c3",
   "metadata": {},
   "outputs": [],
   "source": [
    "test = ['Time:      7  15   30',\n",
    "        'Distance:  9  40  200']\n",
    "\n",
    "data = np.genfromtxt('day06_input.txt', dtype=str, delimiter='\\n', comments=None)"
   ]
  },
  {
   "cell_type": "code",
   "execution_count": 4,
   "id": "78600996",
   "metadata": {},
   "outputs": [
    {
     "name": "stdout",
     "output_type": "stream",
     "text": [
      "288\n",
      "Part 1 result: 2449062\n"
     ]
    }
   ],
   "source": [
    "def get_time_dist(data):\n",
    "    t = data[0].split()\n",
    "    times = np.array(t[1:]).astype(int)\n",
    "    d = data[1].split()\n",
    "    dists = np.array(d[1:]).astype(int)\n",
    "    return times, dists\n",
    "\n",
    "def get_times_dist_kerning(data):\n",
    "    data[0] = data[0].replace(' ', '')\n",
    "    t = data[0].split(':')\n",
    "    times = [int(t[1])]\n",
    "    \n",
    "    data[1] = data[1].replace(' ', '')\n",
    "    d = data[1].split(':')\n",
    "    dists = [int(d[1])]\n",
    "    \n",
    "    return times, dists\n",
    "\n",
    "def distances(data, part=1):\n",
    "    if part == 1:\n",
    "        times, dists = get_time_dist(data)\n",
    "    elif part == 2:\n",
    "        times, dists = get_times_dist_kerning(data)\n",
    "    \n",
    "    scores = []\n",
    "    \n",
    "    for i in range(0, len(times)):\n",
    "        count = 0\n",
    "        for t in range(1, times[i]-1):\n",
    "            d = t*(times[i]-t)\n",
    "            if d > dists[i]:\n",
    "                count += 1\n",
    "            elif count > 0:\n",
    "                break\n",
    "        scores.append(count)\n",
    "    return np.prod(scores)\n",
    "\n",
    "print(distances(test))\n",
    "print('Part 1 result:', distances(data))"
   ]
  },
  {
   "cell_type": "code",
   "execution_count": 5,
   "id": "e3a80b9e",
   "metadata": {},
   "outputs": [
    {
     "name": "stdout",
     "output_type": "stream",
     "text": [
      "71503\n",
      "Part 2 result: 33149631\n"
     ]
    }
   ],
   "source": [
    "print(distances(test, 2))\n",
    "print('Part 2 result:', distances(data, 2))"
   ]
  },
  {
   "cell_type": "code",
   "execution_count": null,
   "id": "8f73774f",
   "metadata": {},
   "outputs": [],
   "source": []
  }
 ],
 "metadata": {
  "kernelspec": {
   "display_name": "Python 3",
   "language": "python",
   "name": "python3"
  },
  "language_info": {
   "codemirror_mode": {
    "name": "ipython",
    "version": 3
   },
   "file_extension": ".py",
   "mimetype": "text/x-python",
   "name": "python",
   "nbconvert_exporter": "python",
   "pygments_lexer": "ipython3",
   "version": "3.9.12"
  }
 },
 "nbformat": 4,
 "nbformat_minor": 5
}
