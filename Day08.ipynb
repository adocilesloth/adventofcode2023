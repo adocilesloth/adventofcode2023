{
 "cells": [
  {
   "cell_type": "code",
   "execution_count": 1,
   "id": "f3ba93a8",
   "metadata": {},
   "outputs": [],
   "source": [
    "import numpy as np"
   ]
  },
  {
   "cell_type": "code",
   "execution_count": 2,
   "id": "3aebc353",
   "metadata": {},
   "outputs": [],
   "source": [
    "test = ['RL',\n",
    "        'AAA = (BBB, CCC)',\n",
    "        'BBB = (DDD, EEE)',\n",
    "        'CCC = (ZZZ, GGG)',\n",
    "        'DDD = (DDD, DDD)',\n",
    "        'EEE = (EEE, EEE)',\n",
    "        'GGG = (GGG, GGG)',\n",
    "        'ZZZ = (ZZZ, ZZZ)']\n",
    "\n",
    "test1 = ['LLR',\n",
    "         'AAA = (BBB, BBB)',\n",
    "         'BBB = (AAA, ZZZ)',\n",
    "         'ZZZ = (ZZZ, ZZZ)']\n",
    "\n",
    "data = np.genfromtxt('day08_input.txt', dtype=str, delimiter='\\n', comments=None)"
   ]
  },
  {
   "cell_type": "code",
   "execution_count": 3,
   "id": "98664e66",
   "metadata": {},
   "outputs": [
    {
     "name": "stdout",
     "output_type": "stream",
     "text": [
      "2\n",
      "6\n",
      "Part 1 result: 14893\n"
     ]
    }
   ],
   "source": [
    "def parse(data):\n",
    "    sequence = data[0]\n",
    "    \n",
    "    nodes = {}\n",
    "    for line in data[1:]:\n",
    "        node, _, l, r = line.split()\n",
    "        nodes[node] = [l[1:-1], r[:-1]]\n",
    "        \n",
    "    return sequence, nodes\n",
    "\n",
    "def AAA_to_ZZZ(data):\n",
    "    sequence, nodes = parse(data)\n",
    "    \n",
    "    i = 0\n",
    "    steps = 0\n",
    "    node = 'AAA'\n",
    "    while True:\n",
    "        if sequence[i] == 'L':\n",
    "            step = 0\n",
    "        elif sequence[i] == 'R':\n",
    "            step = 1\n",
    "        steps += 1\n",
    "        node = nodes[node][step]\n",
    "        if node == 'ZZZ':\n",
    "            return steps\n",
    "        i += 1\n",
    "        if i == len(sequence):\n",
    "            i = 0\n",
    "            \n",
    "print(AAA_to_ZZZ(test))\n",
    "print(AAA_to_ZZZ(test1))\n",
    "print('Part 1 result:', AAA_to_ZZZ(data))"
   ]
  },
  {
   "cell_type": "code",
   "execution_count": 4,
   "id": "545c9517",
   "metadata": {},
   "outputs": [],
   "source": [
    "test2 = ['LR',\n",
    "         '11A = (11B, XXX)',\n",
    "         '11B = (XXX, 11Z)',\n",
    "         '11Z = (11B, XXX)',\n",
    "         '22A = (22B, XXX)',\n",
    "         '22B = (22C, 22C)',\n",
    "         '22C = (22Z, 22Z)',\n",
    "         '22Z = (22B, 22B)',\n",
    "         'XXX = (XXX, XXX)']"
   ]
  },
  {
   "cell_type": "code",
   "execution_count": 5,
   "id": "ed0f9e6c",
   "metadata": {},
   "outputs": [
    {
     "name": "stdout",
     "output_type": "stream",
     "text": [
      "6\n",
      "Part 2 result: 10241191004509\n"
     ]
    }
   ],
   "source": [
    "from math import gcd\n",
    "def lcm(numbers):\n",
    "    locomu = 1\n",
    "    for i in numbers:\n",
    "        locomu = locomu*i//gcd(locomu, i)\n",
    "    return locomu\n",
    "\n",
    "def XXA_to_XXZ(data):\n",
    "    sequence, nodes = parse(data)\n",
    "    \n",
    "    paths = []\n",
    "    for node in nodes.keys():\n",
    "        if node[-1] == 'A':\n",
    "            paths.append(node)\n",
    "    \n",
    "    all_steps = []\n",
    "    for node in paths:\n",
    "        i = 0\n",
    "        steps = 0\n",
    "        while True:\n",
    "            if sequence[i] == 'L':\n",
    "                step = 0\n",
    "            elif sequence[i] == 'R':\n",
    "                step = 1\n",
    "            steps += 1\n",
    "            node = nodes[node][step]\n",
    "            if node[-1] == 'Z':\n",
    "                all_steps.append( steps)\n",
    "                break\n",
    "            i += 1\n",
    "            if i == len(sequence):\n",
    "                i = 0\n",
    "                \n",
    "    return lcm(all_steps)\n",
    "\n",
    "print(XXA_to_XXZ(test2))\n",
    "print('Part 2 result:', XXA_to_XXZ(data))"
   ]
  },
  {
   "cell_type": "code",
   "execution_count": null,
   "id": "ab1353e5",
   "metadata": {},
   "outputs": [],
   "source": []
  }
 ],
 "metadata": {
  "kernelspec": {
   "display_name": "Python 3",
   "language": "python",
   "name": "python3"
  },
  "language_info": {
   "codemirror_mode": {
    "name": "ipython",
    "version": 3
   },
   "file_extension": ".py",
   "mimetype": "text/x-python",
   "name": "python",
   "nbconvert_exporter": "python",
   "pygments_lexer": "ipython3",
   "version": "3.9.12"
  }
 },
 "nbformat": 4,
 "nbformat_minor": 5
}
