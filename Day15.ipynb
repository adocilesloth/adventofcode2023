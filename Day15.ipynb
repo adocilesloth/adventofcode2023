{
 "cells": [
  {
   "cell_type": "code",
   "execution_count": 1,
   "id": "5f0a547c",
   "metadata": {},
   "outputs": [],
   "source": [
    "import numpy as np\n",
    "from collections import defaultdict"
   ]
  },
  {
   "cell_type": "code",
   "execution_count": 2,
   "id": "46e8ed6b",
   "metadata": {},
   "outputs": [],
   "source": [
    "test = ['rn=1',\n",
    "        'cm-',\n",
    "        'qp=3',\n",
    "        'cm=2',\n",
    "        'qp-',\n",
    "        'pc=4',\n",
    "        'ot=9',\n",
    "        'ab=5',\n",
    "        'pc-',\n",
    "        'pc=6',\n",
    "        'ot=7']\n",
    "\n",
    "data = np.genfromtxt('day15_input.txt', dtype=str, delimiter=',', comments=None)"
   ]
  },
  {
   "cell_type": "code",
   "execution_count": 3,
   "id": "2bdd9c0f",
   "metadata": {},
   "outputs": [
    {
     "name": "stdout",
     "output_type": "stream",
     "text": [
      "52\n",
      "1320\n",
      "Part 1 result: 507291\n"
     ]
    }
   ],
   "source": [
    "def hash_value(line):\n",
    "    current_value = 0\n",
    "    for i in range(0, len(line)):\n",
    "        current_value += ord(line[i])\n",
    "        current_value *= 17\n",
    "        current_value %= 256\n",
    "    return current_value\n",
    "\n",
    "def sum_hash_values(data):\n",
    "    value = 0\n",
    "    for line in data:\n",
    "        value += hash_value(line)\n",
    "    return value\n",
    "\n",
    "print(hash_value('HASH'))\n",
    "print(sum_hash_values(test))\n",
    "print('Part 1 result:', sum_hash_values(data))"
   ]
  },
  {
   "cell_type": "code",
   "execution_count": 4,
   "id": "5955c7b2",
   "metadata": {},
   "outputs": [
    {
     "name": "stdout",
     "output_type": "stream",
     "text": [
      "145\n",
      "Part 2 result: 296921\n"
     ]
    }
   ],
   "source": [
    "def lenses(data):\n",
    "    boxes = defaultdict(list)\n",
    "    for line in data:\n",
    "        #print(line)\n",
    "        if line[-1] == '-':\n",
    "            #remove lense\n",
    "            lense = line[:-1]\n",
    "            hasz = hash_value(lense)\n",
    "            for i in range(0, len(boxes[hasz])):\n",
    "                if boxes[hasz][i][0] == lense:\n",
    "                    del boxes[hasz][i]\n",
    "                    break\n",
    "        else:\n",
    "            lense = line[:-2]\n",
    "            hasz = hash_value(lense)\n",
    "            focal = int(line[-1])\n",
    "            already = False\n",
    "            for i in range(0, len(boxes[hasz])):\n",
    "                if boxes[hasz][i][0] == lense:\n",
    "                    boxes[hasz][i][1] = focal\n",
    "                    already = True\n",
    "                    break\n",
    "            if already == False:\n",
    "                boxes[hasz].append([lense, focal])\n",
    "                \n",
    "        #for key, value in boxes.items():\n",
    "        #    print(key, value)\n",
    "        #print()\n",
    "                \n",
    "    #count lenses\n",
    "    power = 0\n",
    "    for key, value in boxes.items():\n",
    "        box_power = 0\n",
    "        for i in range(0, len(value)):\n",
    "            lense = (key+1)*(i+1)*value[i][1]\n",
    "            box_power += lense\n",
    "        power += box_power\n",
    "    return power\n",
    "\n",
    "print(lenses(test))\n",
    "print('Part 2 result:', lenses(data))"
   ]
  },
  {
   "cell_type": "code",
   "execution_count": null,
   "id": "0061eb81",
   "metadata": {},
   "outputs": [],
   "source": []
  }
 ],
 "metadata": {
  "kernelspec": {
   "display_name": "Python 3",
   "language": "python",
   "name": "python3"
  },
  "language_info": {
   "codemirror_mode": {
    "name": "ipython",
    "version": 3
   },
   "file_extension": ".py",
   "mimetype": "text/x-python",
   "name": "python",
   "nbconvert_exporter": "python",
   "pygments_lexer": "ipython3",
   "version": "3.9.12"
  }
 },
 "nbformat": 4,
 "nbformat_minor": 5
}
