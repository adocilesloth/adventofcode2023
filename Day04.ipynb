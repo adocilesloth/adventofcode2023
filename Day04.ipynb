{
 "cells": [
  {
   "cell_type": "code",
   "execution_count": 1,
   "id": "7d358f9f",
   "metadata": {},
   "outputs": [],
   "source": [
    "import numpy as np\n",
    "from collections import defaultdict"
   ]
  },
  {
   "cell_type": "code",
   "execution_count": 2,
   "id": "8ec944be",
   "metadata": {},
   "outputs": [],
   "source": [
    "test = ['Card 1: 41 48 83 86 17 | 83 86  6 31 17  9 48 53',\n",
    "        'Card 2: 13 32 20 16 61 | 61 30 68 82 17 32 24 19',\n",
    "        'Card 3:  1 21 53 59 44 | 69 82 63 72 16 21 14  1',\n",
    "        'Card 4: 41 92 73 84 69 | 59 84 76 51 58  5 54 83',\n",
    "        'Card 5: 87 83 26 28 32 | 88 30 70 12 93 22 82 36',\n",
    "        'Card 6: 31 18 13 56 72 | 74 77 10 23 35 67 36 11']\n",
    "\n",
    "data = np.genfromtxt('day04_input.txt', dtype=str, delimiter='\\n', comments=None)"
   ]
  },
  {
   "cell_type": "code",
   "execution_count": 3,
   "id": "243ebcc9",
   "metadata": {},
   "outputs": [
    {
     "name": "stdout",
     "output_type": "stream",
     "text": [
      "13\n",
      "Part 1 result: 21919\n"
     ]
    }
   ],
   "source": [
    "def get_cards(data):\n",
    "    cards = {}\n",
    "    for line in data:\n",
    "        card, numbers = line.split(': ')\n",
    "        card = card[5:].strip()\n",
    "        \n",
    "        winning, numbers = numbers.split(' | ')\n",
    "        winning = winning.split(' ')\n",
    "        numbers = numbers.split(' ')\n",
    "        \n",
    "        i_winning = []\n",
    "        for n in winning:\n",
    "            if n == ' ' or len(n) == 0:\n",
    "                continue\n",
    "            i_winning.append(int(n.strip()))\n",
    "        \n",
    "        i_numbers = []\n",
    "        for n in numbers:\n",
    "            if n == ' ' or len(n) == 0:\n",
    "                continue\n",
    "            i_numbers.append(int(n.strip()))\n",
    "            \n",
    "        cards[int(card)] = [i_winning, i_numbers]\n",
    "        \n",
    "    return cards\n",
    "\n",
    "def score_cards(cards):\n",
    "    total_points = 0\n",
    "    for key, value in cards.items():\n",
    "        points = 0\n",
    "        for n in value[1]:\n",
    "            if n in value[0]:\n",
    "                if points == 0:\n",
    "                    points = 1\n",
    "                else:\n",
    "                    points *= 2\n",
    "        total_points += points\n",
    "    return total_points\n",
    "\n",
    "cards_test = get_cards(test)\n",
    "print(score_cards(cards_test))\n",
    "\n",
    "cards_data = get_cards(data)\n",
    "print('Part 1 result:', score_cards(cards_data))"
   ]
  },
  {
   "cell_type": "code",
   "execution_count": 4,
   "id": "fef2cbba",
   "metadata": {},
   "outputs": [
    {
     "name": "stdout",
     "output_type": "stream",
     "text": [
      "30\n",
      "Part 2 result: 9881048\n"
     ]
    }
   ],
   "source": [
    "def card_wins(card):\n",
    "    count = 0\n",
    "    for n in card[1]:\n",
    "        if n in card[0]:\n",
    "            count += 1\n",
    "    return count\n",
    "\n",
    "def count_cards(cards):\n",
    "    occurance = defaultdict(int)\n",
    "    \n",
    "    for key, card in cards.items():\n",
    "        occurance[key] += 1\n",
    "        wins = card_wins(card)\n",
    "        if wins == 0:\n",
    "            continue\n",
    "        for i in range(0, wins):\n",
    "            occurance[key+i+1] += occurance[key]\n",
    "        \n",
    "    max_card = max(cards)\n",
    "    \n",
    "    count = 0\n",
    "    for i in range(1, max_card+1):\n",
    "        count += occurance[i]\n",
    "        \n",
    "    return count\n",
    "\n",
    "print(count_cards(cards_test))\n",
    "print('Part 2 result:', count_cards(cards_data))"
   ]
  },
  {
   "cell_type": "code",
   "execution_count": null,
   "id": "65c2c9f8",
   "metadata": {},
   "outputs": [],
   "source": []
  }
 ],
 "metadata": {
  "kernelspec": {
   "display_name": "Python 3",
   "language": "python",
   "name": "python3"
  },
  "language_info": {
   "codemirror_mode": {
    "name": "ipython",
    "version": 3
   },
   "file_extension": ".py",
   "mimetype": "text/x-python",
   "name": "python",
   "nbconvert_exporter": "python",
   "pygments_lexer": "ipython3",
   "version": "3.9.12"
  }
 },
 "nbformat": 4,
 "nbformat_minor": 5
}
