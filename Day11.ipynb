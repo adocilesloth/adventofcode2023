{
 "cells": [
  {
   "cell_type": "code",
   "execution_count": 1,
   "id": "f569d2cf",
   "metadata": {},
   "outputs": [],
   "source": [
    "import numpy as np"
   ]
  },
  {
   "cell_type": "code",
   "execution_count": 2,
   "id": "269b7594",
   "metadata": {},
   "outputs": [],
   "source": [
    "test = ['...#......',\n",
    "        '.......#..',\n",
    "        '#.........',\n",
    "        '..........',\n",
    "        '......#...',\n",
    "        '.#........',\n",
    "        '.........#',\n",
    "        '..........',\n",
    "        '.......#..',\n",
    "        '#...#.....']\n",
    "\n",
    "data = np.genfromtxt('day11_input.txt', dtype=str, delimiter='\\n', comments=None)"
   ]
  },
  {
   "cell_type": "code",
   "execution_count": 3,
   "id": "e0ee00c3",
   "metadata": {},
   "outputs": [
    {
     "name": "stdout",
     "output_type": "stream",
     "text": [
      "374\n",
      "Part 1 result: 9623138\n"
     ]
    }
   ],
   "source": [
    "def expand_universe(data):\n",
    "    tmp = []\n",
    "    row = []    \n",
    "    for i in range(0, len(data)):\n",
    "        tmp.append(list(data[i]))\n",
    "        if all(c == '.' for c in data[i]):\n",
    "            row.append(i)\n",
    "    \n",
    "    data = np.array(tmp)\n",
    "    #print(data.shape)\n",
    "    col = []\n",
    "    for i in range(0, len(data[0])):\n",
    "        if all(c == '.' for c in data[:,i]):\n",
    "            col.append(i)\n",
    "            \n",
    "    new_data = []\n",
    "    for i in range(0, len(data)):\n",
    "        new_row = []\n",
    "        for j in range(0, len(data[i])):\n",
    "            new_row.append(data[i,j])\n",
    "            if j in col:\n",
    "                new_row.append('.')\n",
    "        new_data.append(new_row)\n",
    "        \n",
    "        new_row = []\n",
    "        if i in row:\n",
    "            for j in range(0, len(new_data[-1])):\n",
    "                new_row.append('.')\n",
    "            new_data.append(new_row)\n",
    "    new_data = np.array(new_data)\n",
    "    #print(new_data.shape)\n",
    "    #for line in new_data:\n",
    "    #    print(''.join(line))\n",
    "        \n",
    "    return new_data\n",
    "\n",
    "def separations(data):\n",
    "    hasz = np.where(data == '#')\n",
    "    #print(hasz)\n",
    "    delta = 0\n",
    "    for i in range(0, len(hasz[0])-1):\n",
    "        for j in range(i+1, len(hasz[0])):\n",
    "            delta += abs(hasz[0][i]-hasz[0][j])+abs(hasz[1][i]-hasz[1][j])\n",
    "            \n",
    "    return delta\n",
    "\n",
    "test_uni = expand_universe(test)\n",
    "print(separations(test_uni))\n",
    "data_uni = expand_universe(data)\n",
    "print('Part 1 result:', separations(data_uni))"
   ]
  },
  {
   "cell_type": "code",
   "execution_count": 4,
   "id": "0bb4bf1b",
   "metadata": {},
   "outputs": [
    {
     "name": "stdout",
     "output_type": "stream",
     "text": [
      "374\n",
      "Part 1 result: 9623138\n",
      "\n",
      "1030\n",
      "8410\n",
      "Part 2 result: 726820169514\n"
     ]
    }
   ],
   "source": [
    "def separations2(data, exp):\n",
    "    tmp = []\n",
    "    row = []    \n",
    "    for i in range(0, len(data)):\n",
    "        tmp.append(list(data[i]))\n",
    "        if all(c == '.' for c in data[i]):\n",
    "            row.append(i)\n",
    "    \n",
    "    data = np.array(tmp)\n",
    "    col = []\n",
    "    for i in range(0, len(data[0])):\n",
    "        if all(c == '.' for c in data[:,i]):\n",
    "            col.append(i)\n",
    "            \n",
    "    hasz = np.where(data == '#')\n",
    "    \n",
    "    delta = 0\n",
    "    for i in range(0, len(hasz[0])-1):\n",
    "        for j in range(i+1, len(hasz[0])):\n",
    "            delta += abs(hasz[0][i]-hasz[0][j])\n",
    "            row_g = np.where(row > min(hasz[0][i],hasz[0][j]))[0]\n",
    "            row_l = np.where(row < max(hasz[0][i],hasz[0][j]))[0]\n",
    "            row_btwn = np.intersect1d(row_g, row_l)\n",
    "            delta += exp*len(row_btwn)\n",
    "            \n",
    "            delta += abs(hasz[1][i]-hasz[1][j])\n",
    "            col_g = np.where(col > min(hasz[1][i],hasz[1][j]))[0]\n",
    "            col_l = np.where(col < max(hasz[1][i],hasz[1][j]))[0]\n",
    "            col_btwn = np.intersect1d(col_g, col_l)\n",
    "            delta += exp*len(col_btwn)\n",
    "            \n",
    "    return delta\n",
    "\n",
    "print(separations2(test, 1))\n",
    "print('Part 1 result:', separations2(data, 1))\n",
    "print()\n",
    "print(separations2(test, 10-1))\n",
    "print(separations2(test, 100-1))\n",
    "print('Part 2 result:', separations2(data, 1000000-1))"
   ]
  },
  {
   "cell_type": "code",
   "execution_count": null,
   "id": "bfbd595a",
   "metadata": {},
   "outputs": [],
   "source": []
  }
 ],
 "metadata": {
  "kernelspec": {
   "display_name": "Python 3",
   "language": "python",
   "name": "python3"
  },
  "language_info": {
   "codemirror_mode": {
    "name": "ipython",
    "version": 3
   },
   "file_extension": ".py",
   "mimetype": "text/x-python",
   "name": "python",
   "nbconvert_exporter": "python",
   "pygments_lexer": "ipython3",
   "version": "3.9.12"
  }
 },
 "nbformat": 4,
 "nbformat_minor": 5
}
