{
 "cells": [
  {
   "cell_type": "code",
   "execution_count": 1,
   "id": "b4bd8d73",
   "metadata": {},
   "outputs": [],
   "source": [
    "import numpy as np\n",
    "from collections import deque\n",
    "from copy import deepcopy"
   ]
  },
  {
   "cell_type": "code",
   "execution_count": 2,
   "id": "72192686",
   "metadata": {},
   "outputs": [],
   "source": [
    "test = ['...........',\n",
    "        '.....###.#.',\n",
    "        '.###.##..#.',\n",
    "        '..#.#...#..',\n",
    "        '....#.#....',\n",
    "        '.##..S####.',\n",
    "        '.##..#...#.',\n",
    "        '.......##..',\n",
    "        '.##.#.####.',\n",
    "        '.##..##.##.',\n",
    "        '...........']\n",
    "\n",
    "data = np.genfromtxt('day21_input.txt', dtype=str, delimiter='\\n', comments=None)"
   ]
  },
  {
   "cell_type": "code",
   "execution_count": 3,
   "id": "e1d6e16a",
   "metadata": {},
   "outputs": [
    {
     "name": "stdout",
     "output_type": "stream",
     "text": [
      "16\n",
      "Part 1 result: 3642\n"
     ]
    }
   ],
   "source": [
    "def gen_graph(data):\n",
    "    graph = []\n",
    "    for line in data:\n",
    "        graph.append(list(line))\n",
    "    return np.array(graph)\n",
    "\n",
    "def good_pos(graph, pos):\n",
    "    x = pos[0]\n",
    "    y = pos[1]\n",
    "    \n",
    "    if x < 0 or x >= len(graph):\n",
    "        return False\n",
    "    if y < 0 or y >= len(graph):\n",
    "        return False\n",
    "    \n",
    "    if graph[x,y] == '#':\n",
    "        return False\n",
    "    return True\n",
    "\n",
    "def BFS(graph, start, target):    \n",
    "    # 0 >\n",
    "    # 1 v\n",
    "    # 2 <\n",
    "    # 3 ^\n",
    "    \n",
    "    dxdy = [[0,1], [1,0], [0,-1], [-1,0]]\n",
    "    \n",
    "    queue = deque([start])\n",
    "    dist = {start: 0}\n",
    "    \n",
    "    while len(queue):\n",
    "        cur_pos = queue.popleft()\n",
    "        cur_dist = dist[cur_pos]\n",
    "        if cur_dist == target:\n",
    "            continue\n",
    "        \n",
    "        #print(cur_pos, cur_dist, cur_val)\n",
    "        for xy in dxdy:\n",
    "            nxt_pos = (cur_pos[0]+xy[0],cur_pos[1]+xy[1])\n",
    "            nxt_dist = cur_dist + 1\n",
    "            if good_pos(graph, nxt_pos) and nxt_pos not in dist.keys():\n",
    "                dist[nxt_pos] = nxt_dist\n",
    "                queue.append(nxt_pos)\n",
    "                \n",
    "    return dist\n",
    "\n",
    "def count_target(dist, target):\n",
    "    count = 0\n",
    "    for key in dist.keys():\n",
    "        if dist[key] % 2 == target%2:\n",
    "            count += 1\n",
    "    return count\n",
    "\n",
    "def part1(data, steps):\n",
    "    graph = gen_graph(data)\n",
    "    pos = np.where(graph=='S')\n",
    "    start = (pos[0][0],pos[1][0])\n",
    "    dists = BFS(graph, start, steps)\n",
    "    return count_target(dists, steps)\n",
    "\n",
    "print(part1(test,6))\n",
    "print('Part 1 result:', part1(data, 64))"
   ]
  },
  {
   "cell_type": "code",
   "execution_count": 4,
   "id": "9da7463b",
   "metadata": {},
   "outputs": [
    {
     "name": "stdout",
     "output_type": "stream",
     "text": [
      "Part 2 result: 608603023105276\n"
     ]
    }
   ],
   "source": [
    "def quadratic(p, x):\n",
    "    y = (p[0]*x*x) + (p[1]*x) + p[2]\n",
    "    return y\n",
    "\n",
    "def part2(data, target):\n",
    "    graph = gen_graph(data)\n",
    "    x_len = graph.shape[0]\n",
    "    \n",
    "    target = (target-65) // x_len\n",
    "    \n",
    "    n = []\n",
    "    f_n = []\n",
    "    for X in range(0, 3):\n",
    "        graph = gen_graph(data)\n",
    "\n",
    "        x_len = graph.shape[0]\n",
    "        y_len = graph.shape[1]\n",
    "\n",
    "        steps = 65 + (X*x_len)\n",
    "        n.append(steps)\n",
    "\n",
    "        for i in range(0, X):\n",
    "            tmp_x_graph = deepcopy(graph[:x_len])\n",
    "            pos = np.where(tmp_x_graph=='S')\n",
    "            if len(pos[0])>0:\n",
    "                tmp_x_graph[pos[0][0],pos[1][0]] = '.'\n",
    "\n",
    "            graph = np.concatenate((tmp_x_graph,graph,tmp_x_graph), axis=0)\n",
    "\n",
    "            tmp_y_graph = deepcopy(graph[:,:y_len])\n",
    "            pos = np.where(tmp_y_graph=='S')\n",
    "            if len(pos[0])>0:\n",
    "                tmp_y_graph[pos[0][0],pos[1][0]] = '.'\n",
    "\n",
    "            graph = np.concatenate((tmp_y_graph,graph,tmp_y_graph), axis=1)\n",
    "            \n",
    "        pos = np.where(graph=='S')\n",
    "        start = (pos[0][0], pos[1][0])\n",
    "\n",
    "        dists = BFS(graph, start, steps)\n",
    "        f_n.append(count_target(dists, steps))\n",
    "\n",
    "    n = np.array(n)\n",
    "    \n",
    "    f_n = np.array(f_n)\n",
    "    p = np.polyfit(range(len(n)), f_n, 2)\n",
    "    p = np.rint(p).astype(int)\n",
    "    \n",
    "    return quadratic(p, target)\n",
    "\n",
    "print('Part 2 result:', part2(data, 26501365))"
   ]
  },
  {
   "cell_type": "code",
   "execution_count": null,
   "id": "3db62cbe",
   "metadata": {},
   "outputs": [],
   "source": []
  }
 ],
 "metadata": {
  "kernelspec": {
   "display_name": "Python 3",
   "language": "python",
   "name": "python3"
  },
  "language_info": {
   "codemirror_mode": {
    "name": "ipython",
    "version": 3
   },
   "file_extension": ".py",
   "mimetype": "text/x-python",
   "name": "python",
   "nbconvert_exporter": "python",
   "pygments_lexer": "ipython3",
   "version": "3.9.12"
  }
 },
 "nbformat": 4,
 "nbformat_minor": 5
}
