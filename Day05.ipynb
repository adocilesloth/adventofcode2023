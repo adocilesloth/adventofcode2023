{
 "cells": [
  {
   "cell_type": "code",
   "execution_count": 1,
   "metadata": {},
   "outputs": [],
   "source": [
    "import numpy as np\n",
    "from copy import deepcopy"
   ]
  },
  {
   "cell_type": "code",
   "execution_count": 2,
   "metadata": {},
   "outputs": [],
   "source": [
    "test = ['seeds: 79 14 55 13',\n",
    "        #'',\n",
    "        'seed-to-soil map:',\n",
    "        '50 98 2',\n",
    "        '52 50 48',\n",
    "        #'',\n",
    "        'soil-to-fertilizer map:',\n",
    "        '0 15 37',\n",
    "        '37 52 2',\n",
    "        '39 0 15',\n",
    "        #'',\n",
    "        'fertilizer-to-water map:',\n",
    "        '49 53 8',\n",
    "        '0 11 42',\n",
    "        '42 0 7',\n",
    "        '57 7 4',\n",
    "        #'',\n",
    "        'water-to-light map:',\n",
    "        '88 18 7',\n",
    "        '18 25 70',\n",
    "        #'',\n",
    "        'light-to-temperature map:',\n",
    "        '45 77 23',\n",
    "        '81 45 19',\n",
    "        '68 64 13',\n",
    "        #'',\n",
    "        'temperature-to-humidity map:',\n",
    "        '0 69 1',\n",
    "        '1 0 69',\n",
    "        #'',\n",
    "        'humidity-to-location map:',\n",
    "        '60 56 37',\n",
    "        '56 93 4']\n",
    "\n",
    "data = np.genfromtxt('day05_input.txt', dtype=str, delimiter='\\n', comments=None)"
   ]
  },
  {
   "cell_type": "code",
   "execution_count": 3,
   "metadata": {},
   "outputs": [
    {
     "name": "stdout",
     "output_type": "stream",
     "text": [
      "35\n",
      "Part 1 result: 309796150\n"
     ]
    }
   ],
   "source": [
    "def parse_input(data):\n",
    "    maps = {}\n",
    "    to_map = ['soil', 'fertilizer', 'water', 'light', 'temperature', 'humidity', 'location']\n",
    "    \n",
    "    _, seeds = data[0].split(':')\n",
    "    seeds = seeds.split()\n",
    "    maps['seeds'] = [int(s) for s in seeds]\n",
    "    \n",
    "    j = 0\n",
    "    mapping = []\n",
    "    for i in range(2, len(data)):\n",
    "        if data[i][0].isdigit() == False:\n",
    "            maps[to_map[j]] = mapping\n",
    "            mapping = []\n",
    "            j += 1\n",
    "        elif data[i][0].isdigit():\n",
    "            line = data[i].split()\n",
    "            mapping.append([int(n) for n in line])\n",
    "        else:\n",
    "            continue\n",
    "    maps[to_map[j]] = np.array(mapping)\n",
    "    \n",
    "    return maps\n",
    "\n",
    "def seed_to_location(maps):\n",
    "    to_map = ['soil', 'fertilizer', 'water', 'light', 'temperature', 'humidity', 'location']\n",
    "    \n",
    "    locs = []\n",
    "    \n",
    "    for seed in maps['seeds']:\n",
    "        value = seed\n",
    "        #print(seed)\n",
    "        for next_map in to_map:\n",
    "            #print(next_map)\n",
    "            for nm in maps[next_map]:\n",
    "                if value >= nm[1] and value < nm[1]+nm[2]:\n",
    "                    dv = value - nm[1]\n",
    "                    value = nm[0]+dv\n",
    "                    break\n",
    "            #print(value)\n",
    "        locs.append(value)\n",
    "        #print()\n",
    "    #print(locs)\n",
    "    arg = np.argmin(locs)\n",
    "    return locs[arg], maps['seeds'][arg]\n",
    "        \n",
    "test_maps = parse_input(test)\n",
    "print(seed_to_location(test_maps)[0])\n",
    "data_maps = parse_input(data)\n",
    "print('Part 1 result:', seed_to_location(data_maps)[0])"
   ]
  },
  {
   "cell_type": "code",
   "execution_count": 4,
   "metadata": {},
   "outputs": [
    {
     "name": "stdout",
     "output_type": "stream",
     "text": [
      "46\n",
      "Part 1 result: 50716416\n"
     ]
    }
   ],
   "source": [
    "def seed_to_location2(maps):\n",
    "    locs = []\n",
    "    \n",
    "    for i in range(0, len(maps['seeds']), 2):\n",
    "        #Sample seeds and find smallest\n",
    "        ds = 1000\n",
    "        seeds = np.arange(maps['seeds'][i], maps['seeds'][i]+maps['seeds'][i+1], ds)\n",
    "        new_maps = deepcopy(maps)\n",
    "        new_maps['seeds'] = seeds\n",
    "        loc1, seed = seed_to_location(new_maps)\n",
    "        \n",
    "        #Sample around smallest seed\n",
    "        seeds = np.arange(seed-1000, seed+1001)\n",
    "        up = np.where(seeds >= maps['seeds'][i])[0]\n",
    "        dn = np.where(seeds < maps['seeds'][i]+maps['seeds'][i+1])[0]\n",
    "        ok = np.intersect1d(up, dn)\n",
    "        seeds = seeds[ok]\n",
    "        \n",
    "        new_maps['seeds'] = seeds\n",
    "        loc2, _ = seed_to_location(new_maps)\n",
    "        \n",
    "        locs.append(min(loc1, loc2))\n",
    "        \n",
    "    return min(locs)\n",
    "\n",
    "print(seed_to_location2(test_maps))\n",
    "print('Part 1 result:', seed_to_location2(data_maps))"
   ]
  },
  {
   "cell_type": "code",
   "execution_count": null,
   "metadata": {},
   "outputs": [],
   "source": []
  }
 ],
 "metadata": {
  "kernelspec": {
   "display_name": "Python 3",
   "language": "python",
   "name": "python3"
  },
  "language_info": {
   "codemirror_mode": {
    "name": "ipython",
    "version": 3
   },
   "file_extension": ".py",
   "mimetype": "text/x-python",
   "name": "python",
   "nbconvert_exporter": "python",
   "pygments_lexer": "ipython3",
   "version": "3.7.4"
  }
 },
 "nbformat": 4,
 "nbformat_minor": 5
}
