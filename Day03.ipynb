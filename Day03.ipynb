{
 "cells": [
  {
   "cell_type": "code",
   "execution_count": 1,
   "metadata": {},
   "outputs": [],
   "source": [
    "import numpy as np\n",
    "from collections import defaultdict"
   ]
  },
  {
   "cell_type": "code",
   "execution_count": 2,
   "metadata": {},
   "outputs": [],
   "source": [
    "test = ['467..114..',\n",
    "        '...*......',\n",
    "        '..35..633.',\n",
    "        '......#...',\n",
    "        '617*......',\n",
    "        '.....+.58.',\n",
    "        '..592.....',\n",
    "        '......755.',\n",
    "        '...$.*....',\n",
    "        '.664.598..']\n",
    "\n",
    "data = np.genfromtxt('day03_input.txt', dtype=str, delimiter='\\n', comments=None)"
   ]
  },
  {
   "cell_type": "code",
   "execution_count": 3,
   "metadata": {},
   "outputs": [
    {
     "name": "stdout",
     "output_type": "stream",
     "text": [
      "4361\n",
      "Part 1 result: 525911\n"
     ]
    }
   ],
   "source": [
    "def numbers_and_symbols(data):\n",
    "    numbers = {}\n",
    "    symbols = defaultdict(list)\n",
    "    \n",
    "    number = ''\n",
    "    for x in range(0, len(data)):\n",
    "        for y in range(0, len(data[x])):\n",
    "            \n",
    "            if data[x][y].isdigit():\n",
    "                number += data[x][y]\n",
    "            else:\n",
    "                \n",
    "                if len(number) > 0:\n",
    "                    for i in range(0, len(number)):\n",
    "                        numbers[(x,y-1-i)] = int(number)\n",
    "                    number = ''\n",
    "                    \n",
    "                if data[x][y] != '.':\n",
    "                    symbols[data[x][y]].append((x,y))\n",
    "                    \n",
    "        if len(number) > 0:\n",
    "            for i in range(0, len(number)):\n",
    "                numbers[(x,y-i)] = int(number)\n",
    "            number = ''\n",
    "                    \n",
    "    return numbers, symbols\n",
    "\n",
    "def get_part_numbers(numbers, symbols):\n",
    "    number_sum = 0\n",
    "    used = []\n",
    "    \n",
    "    for symbol, s_coords in symbols.items():\n",
    "        for coord in s_coords:\n",
    "            to_add = []\n",
    "            for dx in range(-1, 2):\n",
    "                for dy in range(-1, 2):\n",
    "                    if (coord[0]+dx,coord[1]+dy) in numbers:\n",
    "                        to_add.append(numbers[(coord[0]+dx,coord[1]+dy)])\n",
    "            to_add = np.unique(to_add)\n",
    "            number_sum += np.sum(to_add)\n",
    "            for u in to_add:\n",
    "                used.append(u)\n",
    "                \n",
    "    return number_sum, used\n",
    "\n",
    "ns_test = numbers_and_symbols(test)\n",
    "print(get_part_numbers(*ns_test)[0])\n",
    "\n",
    "ns_data = numbers_and_symbols(data)\n",
    "print('Part 1 result:', get_part_numbers(*ns_data)[0])"
   ]
  },
  {
   "cell_type": "code",
   "execution_count": 4,
   "metadata": {},
   "outputs": [
    {
     "name": "stdout",
     "output_type": "stream",
     "text": [
      "467835\n",
      "Part 2 result: 75805607\n"
     ]
    }
   ],
   "source": [
    "def gear_ratios(numbers, symbols):\n",
    "    gear_ratios = 0\n",
    "    \n",
    "    for coord in symbols['*']:\n",
    "        to_add = []\n",
    "        for dx in range(-1, 2):\n",
    "            for dy in range(-1, 2):\n",
    "                if (coord[0]+dx,coord[1]+dy) in numbers:\n",
    "                    to_add.append(numbers[(coord[0]+dx,coord[1]+dy)])\n",
    "                    \n",
    "        to_add = np.unique(to_add)\n",
    "        if len(to_add) == 2:\n",
    "            gear_ratios += (to_add[0]*to_add[1])\n",
    "            \n",
    "    return gear_ratios\n",
    "\n",
    "print(gear_ratios(*ns_test))\n",
    "print('Part 2 result:', gear_ratios(*ns_data))"
   ]
  },
  {
   "cell_type": "code",
   "execution_count": null,
   "metadata": {},
   "outputs": [],
   "source": []
  }
 ],
 "metadata": {
  "kernelspec": {
   "display_name": "Python 3",
   "language": "python",
   "name": "python3"
  },
  "language_info": {
   "codemirror_mode": {
    "name": "ipython",
    "version": 3
   },
   "file_extension": ".py",
   "mimetype": "text/x-python",
   "name": "python",
   "nbconvert_exporter": "python",
   "pygments_lexer": "ipython3",
   "version": "3.7.4"
  }
 },
 "nbformat": 4,
 "nbformat_minor": 2
}
