{
 "cells": [
  {
   "cell_type": "code",
   "execution_count": 1,
   "id": "ee62b5fa",
   "metadata": {},
   "outputs": [],
   "source": [
    "import numpy as np\n",
    "from copy import deepcopy"
   ]
  },
  {
   "cell_type": "code",
   "execution_count": 2,
   "id": "85cc1eca",
   "metadata": {},
   "outputs": [],
   "source": [
    "test = ['#.##..##.',\n",
    "        '..#.##.#.',\n",
    "        '##......#',\n",
    "        '##......#',\n",
    "        '..#.##.#.',\n",
    "        '..##..##.',\n",
    "        '#.#.##.#.',\n",
    "        '',\n",
    "        '#...##..#',\n",
    "        '#....#..#',\n",
    "        '..##..###',\n",
    "        '#####.##.',\n",
    "        '#####.##.',\n",
    "        '..##..###',\n",
    "        '#....#..#']\n",
    "\n",
    "data = []\n",
    "with open('day13_input.txt', 'r') as f:\n",
    "    lines = f.readlines()\n",
    "    for line in lines:\n",
    "        data.append(line.strip())\n",
    "    f.close()"
   ]
  },
  {
   "cell_type": "code",
   "execution_count": 3,
   "id": "a0c92445",
   "metadata": {},
   "outputs": [
    {
     "name": "stdout",
     "output_type": "stream",
     "text": [
      "405\n",
      "Part 1 result: 28651\n"
     ]
    }
   ],
   "source": [
    "def parse(data):\n",
    "    new_data = []\n",
    "    land = []\n",
    "    for line in data:\n",
    "        if len(line) == 0:\n",
    "            new_data.append(np.array(land))\n",
    "            land = []\n",
    "        else:\n",
    "            land.append(list(line))\n",
    "    new_data.append(np.array(land))\n",
    "    return new_data\n",
    "\n",
    "def find_mirror(land, ignore=[-1,-1]):\n",
    "    score = 0\n",
    "    for i in range(0, len(land[0])-1):\n",
    "        if i == ignore[0]:\n",
    "            continue\n",
    "        test = False\n",
    "        if np.array_equal(land[:,i], land[:,i+1]):\n",
    "\n",
    "            test = True\n",
    "            for j in range(1, i+1):\n",
    "                if i+1+j == len(land[0]):\n",
    "                    break\n",
    "                if np.array_equal(land[:,i-j], land[:,i+1+j]) == False:\n",
    "                    test = False\n",
    "                    break\n",
    "            if test:\n",
    "                score += i+1\n",
    "\n",
    "    #horizontal\n",
    "    for i in range(0, len(land)-1):\n",
    "        if i == ignore[1]:\n",
    "            continue\n",
    "        test = False\n",
    "        if np.array_equal(land[i], land[i+1]):\n",
    "            test = True\n",
    "            for j in range(1, i+1):\n",
    "                if i+1+j == len(land):\n",
    "                    break\n",
    "                if np.array_equal(land[i-j], land[i+1+j]) == False:\n",
    "                    test = False\n",
    "                    break\n",
    "            if test:\n",
    "                score += 100*(i+1)\n",
    "    return score\n",
    "\n",
    "def reflect(data):\n",
    "    score = 0\n",
    "    for land in data:\n",
    "        score += find_mirror(land)\n",
    "    return score\n",
    "                \n",
    "test_parse = parse(test)\n",
    "print(reflect(test_parse))\n",
    "\n",
    "data_parse = parse(data)\n",
    "print('Part 1 result:', reflect(data_parse))"
   ]
  },
  {
   "cell_type": "code",
   "execution_count": 4,
   "id": "1039cbf7",
   "metadata": {},
   "outputs": [
    {
     "name": "stdout",
     "output_type": "stream",
     "text": [
      "400\n",
      "Part 2 result: 25450\n"
     ]
    }
   ],
   "source": [
    "def smudge_reflect(data):\n",
    "    score = 0\n",
    "    for land in data:\n",
    "        found = False\n",
    "        bad_score = find_mirror(land)\n",
    "        if bad_score < 100:\n",
    "            ignore = [bad_score-1, -1]\n",
    "        else:\n",
    "            ignore = [-1, (bad_score/100)-1]\n",
    "        for i in range(0, len(land)):\n",
    "            for j in range(0, len(land[i])):\n",
    "                land_s = deepcopy(land)\n",
    "                if land_s[i,j] == '.':\n",
    "                    land_s[i,j] = '#'\n",
    "                else:\n",
    "                    land_s[i,j] = '.'\n",
    "                s_score = find_mirror(land_s, ignore)\n",
    "                if s_score > 0 and s_score != bad_score:\n",
    "                    found = True\n",
    "                    break\n",
    "            if found:\n",
    "                break\n",
    "        if found:\n",
    "            score += s_score\n",
    "        else:\n",
    "            score += bad_score\n",
    "    return score\n",
    "\n",
    "print(smudge_reflect(test_parse))\n",
    "print('Part 2 result:', smudge_reflect(data_parse))"
   ]
  },
  {
   "cell_type": "code",
   "execution_count": null,
   "id": "67cefc1b",
   "metadata": {},
   "outputs": [],
   "source": []
  }
 ],
 "metadata": {
  "kernelspec": {
   "display_name": "Python 3",
   "language": "python",
   "name": "python3"
  },
  "language_info": {
   "codemirror_mode": {
    "name": "ipython",
    "version": 3
   },
   "file_extension": ".py",
   "mimetype": "text/x-python",
   "name": "python",
   "nbconvert_exporter": "python",
   "pygments_lexer": "ipython3",
   "version": "3.8.10"
  }
 },
 "nbformat": 4,
 "nbformat_minor": 5
}
