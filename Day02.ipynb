{
 "cells": [
  {
   "cell_type": "code",
   "execution_count": 1,
   "metadata": {},
   "outputs": [],
   "source": [
    "import numpy as np"
   ]
  },
  {
   "cell_type": "code",
   "execution_count": 2,
   "metadata": {},
   "outputs": [],
   "source": [
    "test = ['Game 1: 3 blue, 4 red; 1 red, 2 green, 6 blue; 2 green',\n",
    "        'Game 2: 1 blue, 2 green; 3 green, 4 blue, 1 red; 1 green, 1 blue',\n",
    "        'Game 3: 8 green, 6 blue, 20 red; 5 blue, 4 red, 13 green; 5 green, 1 red',\n",
    "        'Game 4: 1 green, 3 red, 6 blue; 3 green, 6 red; 3 green, 15 blue, 14 red',\n",
    "        'Game 5: 6 red, 1 blue, 3 green; 2 blue, 1 red, 2 green']\n",
    "\n",
    "data = np.genfromtxt('day02_input.txt', dtype=str, delimiter='\\n')"
   ]
  },
  {
   "cell_type": "code",
   "execution_count": 3,
   "metadata": {},
   "outputs": [
    {
     "name": "stdout",
     "output_type": "stream",
     "text": [
      "8\n",
      "Part 1 result: 2369\n"
     ]
    }
   ],
   "source": [
    "def get_games(data):\n",
    "    all_games = {}\n",
    "    for line in data:\n",
    "        game_data, hand_data = line.split(': ')\n",
    "        \n",
    "        _, game = game_data.split(' ')\n",
    "        game = int(game)\n",
    "        \n",
    "        hands = hand_data.split('; ')\n",
    "        all_hands = []\n",
    "        for h in hands:\n",
    "            r = np.nan\n",
    "            b = np.nan\n",
    "            g = np.nan\n",
    "            colours = h.split(', ')\n",
    "            for colour in colours:\n",
    "                n, c = colour.split(' ')\n",
    "                if c == 'red':\n",
    "                    r = int(n)\n",
    "                elif c == 'green':\n",
    "                    g = int(n)\n",
    "                elif c == 'blue':\n",
    "                    b = int(n)\n",
    "            all_hands.append([r,g,b])\n",
    "        all_games[game] = np.array(all_hands)\n",
    "    return all_games\n",
    "\n",
    "def possible_games(data):\n",
    "    max_cube = [12, 13, 14]\n",
    "    all_games = get_games(data)\n",
    "    \n",
    "    sum_id = 0\n",
    "    for key, value in all_games.items():\n",
    "        okay = True\n",
    "        for hand in value:\n",
    "            if (hand[0] > max_cube[0] and np.isfinite(hand[0])) or\\\n",
    "               (hand[1] > max_cube[1] and np.isfinite(hand[1])) or\\\n",
    "               (hand[2] > max_cube[2] and np.isfinite(hand[2])):\n",
    "                okay = False\n",
    "                break\n",
    "        if okay:\n",
    "            sum_id += key\n",
    "    return sum_id\n",
    "\n",
    "print(possible_games(test))\n",
    "print('Part 1 result:', possible_games(data))"
   ]
  },
  {
   "cell_type": "code",
   "execution_count": 4,
   "metadata": {},
   "outputs": [
    {
     "name": "stdout",
     "output_type": "stream",
     "text": [
      "2286\n",
      "Part 2 result: 66363\n"
     ]
    }
   ],
   "source": [
    "def min_power(data):\n",
    "    all_games = get_games(data)\n",
    "    \n",
    "    sum_id = 0\n",
    "    for key, value in all_games.items():\n",
    "        r = np.nanmax(value[:,0]).astype(int)\n",
    "        g = np.nanmax(value[:,1]).astype(int)\n",
    "        b = np.nanmax(value[:,2]).astype(int)\n",
    "        sum_id += (r*b*g)\n",
    "    return sum_id\n",
    "\n",
    "print(min_power(test))\n",
    "print('Part 2 result:', min_power(data))"
   ]
  },
  {
   "cell_type": "code",
   "execution_count": null,
   "metadata": {},
   "outputs": [],
   "source": []
  }
 ],
 "metadata": {
  "kernelspec": {
   "display_name": "Python 3",
   "language": "python",
   "name": "python3"
  },
  "language_info": {
   "codemirror_mode": {
    "name": "ipython",
    "version": 3
   },
   "file_extension": ".py",
   "mimetype": "text/x-python",
   "name": "python",
   "nbconvert_exporter": "python",
   "pygments_lexer": "ipython3",
   "version": "3.7.4"
  }
 },
 "nbformat": 4,
 "nbformat_minor": 2
}
