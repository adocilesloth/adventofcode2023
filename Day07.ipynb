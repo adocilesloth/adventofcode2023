{
 "cells": [
  {
   "cell_type": "code",
   "execution_count": 1,
   "id": "74f21dd8",
   "metadata": {},
   "outputs": [],
   "source": [
    "import numpy as np"
   ]
  },
  {
   "cell_type": "code",
   "execution_count": 2,
   "id": "57c2aa5e",
   "metadata": {},
   "outputs": [],
   "source": [
    "test = ['32T3K 765',\n",
    "        'T55J5 684',\n",
    "        'KK677 28',\n",
    "        'KTJJT 220',\n",
    "        'QQQJA 483']\n",
    "\n",
    "data = np.genfromtxt('day07_input.txt', dtype=str, delimiter='\\n', comments=None)"
   ]
  },
  {
   "cell_type": "code",
   "execution_count": 3,
   "id": "7455f44d",
   "metadata": {},
   "outputs": [
    {
     "name": "stdout",
     "output_type": "stream",
     "text": [
      "6440\n",
      "Part 1 result: 253313241\n"
     ]
    }
   ],
   "source": [
    "def parse(data, part=1):\n",
    "    hands = []\n",
    "    if part == 1:\n",
    "        mapping = {'A':'14', 'K':'13', 'Q':'12', 'J':'11', 'T':'10'}\n",
    "    elif part == 2:\n",
    "        mapping = {'A':'14', 'K':'13', 'Q':'12', 'J':'1', 'T':'10'}\n",
    "    for line in data:\n",
    "        hand = line.split()\n",
    "        \n",
    "        hand[0] = list(hand[0])\n",
    "        for i in range(0, 5):\n",
    "            if hand[0][i] in mapping:\n",
    "                hand[0][i] = mapping[hand[0][i]]\n",
    "            hand[0][i] = int(hand[0][i])\n",
    "        \n",
    "        hand[1] = int(hand[1])\n",
    "        hands.append(hand)\n",
    "    return hands\n",
    "\n",
    "\n",
    "def hand_type(hand, part=1):\n",
    "    cards, counts = np.unique(hand, return_counts=True)\n",
    "    \n",
    "    if part == 2:\n",
    "        if 1 in cards and len(cards)>1:\n",
    "            cards = np.flip(cards)\n",
    "            counts = np.flip(counts)\n",
    "            joker = np.where(cards==1)[0]\n",
    "            maxarg = np.argmax(counts[:-1])\n",
    "            counts[maxarg] += counts[joker]\n",
    "            counts = np.delete(counts, joker)\n",
    "            \n",
    "    if len(counts) == 1:\n",
    "        #five of a kind\n",
    "        return 0\n",
    "    elif len(counts) == 2:\n",
    "        if 4 in counts:\n",
    "            #four of a kind\n",
    "            return 1\n",
    "        if 3 in counts:\n",
    "            #full house\n",
    "            return 2\n",
    "    elif len(counts) == 3:\n",
    "        if 3 in counts:\n",
    "            #three of a kind\n",
    "            return 3\n",
    "        if 2 in counts:\n",
    "            #two pair\n",
    "            return 4\n",
    "    elif len(counts) == 4:\n",
    "        #two of a kind\n",
    "        return 5\n",
    "    else:\n",
    "        #high card\n",
    "        return 6\n",
    "    \n",
    "def compare_hands(hand1, hand2, part=1):\n",
    "    if hand_type(hand1[0], part) > hand_type(hand2[0], part):\n",
    "        return hand1, hand2\n",
    "    elif hand_type(hand1[0], part) < hand_type(hand2[0], part):\n",
    "        return hand2, hand1\n",
    "    \n",
    "    for i in range(0, 5):\n",
    "        if hand1[0][i] < hand2[0][i]:\n",
    "            return hand1, hand2\n",
    "        elif hand1[0][i] > hand2[0][i]:\n",
    "            return hand2, hand1\n",
    "    return hand1, hand2\n",
    "    \n",
    "def sort_hands(hands, part=1):\n",
    "    for i in range(0, len(hands)-1):\n",
    "        for j in range(0, len(hands)-i-1):\n",
    "            old_hand = hands[j]\n",
    "            hands[j], hands[j+1] = compare_hands(hands[j], hands[j+1], part)\n",
    "    return hands\n",
    "\n",
    "def score_hands(hands):\n",
    "    score = 0\n",
    "    for i in range(0, len(hands)):\n",
    "        score += (hands[i][1]*(i+1))\n",
    "    return score\n",
    "\n",
    "def print_all_hands(hands, part=1):\n",
    "    for hand in hands:\n",
    "        print_hand(hand, part)\n",
    "        \n",
    "def print_hand(hand, part=1):\n",
    "    mapping = {14:'A', 13:'K', 12:'Q', 11:'J', 10:'T', 1:'J'}\n",
    "    string = ''\n",
    "    for i in range(0, 5):\n",
    "        if hand[0][i] in mapping:\n",
    "            string += mapping[hand[0][i]]\n",
    "        else:\n",
    "            string += str(hand[0][i])\n",
    "    print(string, hand_type(hand[0], part))\n",
    "\n",
    "test_hands = parse(test)\n",
    "test_hands = sort_hands(test_hands)\n",
    "#print_all_hands(test_hands)\n",
    "print(score_hands(test_hands))\n",
    "\n",
    "data_hands = parse(data)\n",
    "data_hands = sort_hands(data_hands)\n",
    "#print_all_hands(data_hands)\n",
    "print('Part 1 result:', score_hands(data_hands))"
   ]
  },
  {
   "cell_type": "code",
   "execution_count": 4,
   "id": "eb0903f8",
   "metadata": {},
   "outputs": [
    {
     "name": "stdout",
     "output_type": "stream",
     "text": [
      "5905\n",
      "Part 2 result: 253362743\n"
     ]
    }
   ],
   "source": [
    "test_hands = parse(test,2)\n",
    "test_hands = sort_hands(test_hands,2)\n",
    "#print_all_hands(test_hands)\n",
    "print(score_hands(test_hands))\n",
    "\n",
    "data_hands = parse(data,2)\n",
    "data_hands = sort_hands(data_hands,2)\n",
    "#print_all_hands(data_hands, 2)\n",
    "print('Part 2 result:', score_hands(data_hands))"
   ]
  }
 ],
 "metadata": {
  "kernelspec": {
   "display_name": "Python 3",
   "language": "python",
   "name": "python3"
  },
  "language_info": {
   "codemirror_mode": {
    "name": "ipython",
    "version": 3
   },
   "file_extension": ".py",
   "mimetype": "text/x-python",
   "name": "python",
   "nbconvert_exporter": "python",
   "pygments_lexer": "ipython3",
   "version": "3.9.12"
  }
 },
 "nbformat": 4,
 "nbformat_minor": 5
}
