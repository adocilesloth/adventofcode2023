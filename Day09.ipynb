{
 "cells": [
  {
   "cell_type": "code",
   "execution_count": 1,
   "metadata": {},
   "outputs": [],
   "source": [
    "import numpy as np"
   ]
  },
  {
   "cell_type": "code",
   "execution_count": 2,
   "metadata": {},
   "outputs": [],
   "source": [
    "test = [[0, 3, 6, 9, 12, 15],\n",
    "        [1, 3, 6, 10, 15, 21],\n",
    "        [10, 13, 16, 21, 30, 45]]\n",
    "\n",
    "data = np.genfromtxt('day09_input.txt', dtype=int, comments=None)"
   ]
  },
  {
   "cell_type": "code",
   "execution_count": 3,
   "metadata": {},
   "outputs": [
    {
     "name": "stdout",
     "output_type": "stream",
     "text": [
      "114\n",
      "Part 1 result: 1901217887\n",
      "\n",
      "2\n",
      "Part 2 result: 905\n"
     ]
    }
   ],
   "source": [
    "def run(data):\n",
    "    future = []\n",
    "    past = []\n",
    "    for line in data:\n",
    "        last = [line[-1]]\n",
    "        first = [line[0]]\n",
    "        while np.all(line == 0) == False:\n",
    "            line = np.diff(line)\n",
    "            last.append(line[-1])\n",
    "            first.append(line[0])\n",
    "            \n",
    "        new = [0]\n",
    "        old = [0]\n",
    "        for i in range(len(last)-2, -1, -1):\n",
    "            new.append(last[i]+new[-1])\n",
    "            old.append(first[i]-old[-1])\n",
    "            \n",
    "        future.append(new[-1])\n",
    "        past.append(old[-1])\n",
    "        \n",
    "    return np.sum(future), np.sum(past)\n",
    "    \n",
    "print(run(test)[0])\n",
    "print('Part 1 result:', run(data)[0])\n",
    "print()\n",
    "print(run(test)[1])\n",
    "print('Part 2 result:', run(data)[1])"
   ]
  },
  {
   "cell_type": "code",
   "execution_count": null,
   "metadata": {},
   "outputs": [],
   "source": []
  }
 ],
 "metadata": {
  "kernelspec": {
   "display_name": "Python 3",
   "language": "python",
   "name": "python3"
  },
  "language_info": {
   "codemirror_mode": {
    "name": "ipython",
    "version": 3
   },
   "file_extension": ".py",
   "mimetype": "text/x-python",
   "name": "python",
   "nbconvert_exporter": "python",
   "pygments_lexer": "ipython3",
   "version": "3.7.4"
  }
 },
 "nbformat": 4,
 "nbformat_minor": 2
}
