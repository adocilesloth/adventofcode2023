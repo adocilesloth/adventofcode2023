{
 "cells": [
  {
   "cell_type": "code",
   "execution_count": 1,
   "metadata": {},
   "outputs": [],
   "source": [
    "import numpy as np\n",
    "from collections import deque"
   ]
  },
  {
   "cell_type": "code",
   "execution_count": 2,
   "metadata": {},
   "outputs": [],
   "source": [
    "test = ['.|...\\....',\n",
    "        '|.-.\\.....',\n",
    "        '.....|-...',\n",
    "        '........|.',\n",
    "        '..........',\n",
    "        '.........\\\\',\n",
    "        '..../.\\\\\\\\..',\n",
    "        '.-.-/..|..',\n",
    "        '.|....-|.\\\\',\n",
    "        '..//.|....']\n",
    "\n",
    "data = np.genfromtxt('day16_input.txt', dtype=str, delimiter='\\n', comments=None)"
   ]
  },
  {
   "cell_type": "code",
   "execution_count": 3,
   "metadata": {},
   "outputs": [
    {
     "name": "stdout",
     "output_type": "stream",
     "text": [
      "46\n",
      "Part 1 result: 7996\n"
     ]
    }
   ],
   "source": [
    "def gen_graph(data):\n",
    "    graph = []\n",
    "    for line in data:\n",
    "        graph.append([*line])\n",
    "    return np.array(graph)\n",
    "\n",
    "def good_pos(graph, pos):\n",
    "    x = pos[0]\n",
    "    y = pos[1]\n",
    "    \n",
    "    if x < 0 or x >= len(graph):\n",
    "        return False\n",
    "    if y < 0 or y >= len(graph):\n",
    "        return False\n",
    "    return True\n",
    "\n",
    "def BFS(graph, start):    \n",
    "    # 0 >\n",
    "    # 1 v\n",
    "    # 2 <\n",
    "    # 3 ^\n",
    "    \n",
    "    dxdy = [[0,1], [1,0], [0,-1], [-1,0]]\n",
    "    \n",
    "    queue = deque([start])\n",
    "    dist = {start: 0}\n",
    "    \n",
    "    while len(queue):\n",
    "        cur_pos = queue.popleft()\n",
    "        cur_dist = dist[cur_pos]\n",
    "        cur_val = graph[cur_pos[0]][cur_pos[1]]\n",
    "        \n",
    "        nxt_dist = cur_dist + 1\n",
    "            \n",
    "        if cur_val == '-' and cur_pos[2] %2 == 1:\n",
    "            nxt_pos = [(cur_pos[0]+dxdy[0][0], cur_pos[1]+dxdy[0][1], 0),\n",
    "                       (cur_pos[0]+dxdy[2][0], cur_pos[1]+dxdy[2][1], 2)]\n",
    "        elif cur_val == '|' and cur_pos[2] %2 == 0:\n",
    "            nxt_pos = [(cur_pos[0]+dxdy[1][0], cur_pos[1]+dxdy[1][1], 1),\n",
    "                       (cur_pos[0]+dxdy[3][0], cur_pos[1]+dxdy[3][1], 3)]\n",
    "            \n",
    "        elif (cur_val == '/' and cur_pos[2] == 0) or (cur_val == '\\\\' and cur_pos[2] == 2):\n",
    "            nxt_pos = [(cur_pos[0]+dxdy[3][0], cur_pos[1]+dxdy[3][1], 3)]\n",
    "        elif (cur_val == '/' and cur_pos[2] == 2) or (cur_val == '\\\\' and cur_pos[2] == 0):\n",
    "            nxt_pos = [(cur_pos[0]+dxdy[1][0], cur_pos[1]+dxdy[1][1], 1)]\n",
    "            \n",
    "        elif (cur_val == '/' and cur_pos[2] == 1) or (cur_val == '\\\\' and cur_pos[2] == 3):\n",
    "            nxt_pos = [(cur_pos[0]+dxdy[2][0], cur_pos[1]+dxdy[2][1], 2)]\n",
    "        elif (cur_val == '/' and cur_pos[2] == 3) or (cur_val == '\\\\' and cur_pos[2] == 1):\n",
    "            nxt_pos = [(cur_pos[0]+dxdy[0][0], cur_pos[1]+dxdy[0][1], 0)]\n",
    "            \n",
    "        else:\n",
    "            nxt_pos = [(cur_pos[0]+dxdy[cur_pos[2]][0], cur_pos[1]+dxdy[cur_pos[2]][1], cur_pos[2])]\n",
    "            \n",
    "        for np in nxt_pos:\n",
    "            if good_pos(graph, np) and np not in dist.keys():\n",
    "                queue.append(np)\n",
    "                dist[np] = nxt_dist\n",
    "                \n",
    "    return dist\n",
    "\n",
    "def count_energised(graph, dist):\n",
    "    count = 0\n",
    "    for i in range(0, len(graph)):\n",
    "        for j in range(0, len(graph[i])):\n",
    "            if (i,j,0) in dist.keys() or (i,j,1) in dist.keys() or\\\n",
    "               (i,j,2) in dist.keys() or (i,j,3) in dist.keys():\n",
    "                count += 1\n",
    "    return count\n",
    "\n",
    "def print_path(graph, dist):\n",
    "    for i in range(0, len(graph)):\n",
    "        string = ''\n",
    "        for j in range(0, len(graph[i])):\n",
    "            if (i,j,0) in dist.keys() or (i,j,1) in dist.keys() or\\\n",
    "               (i,j,2) in dist.keys() or (i,j,3) in dist.keys():\n",
    "                string += '#'\n",
    "            else:\n",
    "                string += '.'\n",
    "        print(string)\n",
    "\n",
    "test_graph = gen_graph(test)\n",
    "test_dist = BFS(test_graph, (0,0,0))\n",
    "#print_path(test_graph, test_dist)\n",
    "print(count_energised(test_graph, test_dist))\n",
    "\n",
    "data_graph = gen_graph(data)\n",
    "data_dist = BFS(data_graph, (0,0,0))\n",
    "print('Part 1 result:', count_energised(data_graph, data_dist))"
   ]
  },
  {
   "cell_type": "code",
   "execution_count": 4,
   "metadata": {},
   "outputs": [
    {
     "name": "stdout",
     "output_type": "stream",
     "text": [
      "51\n",
      "Part 2 result: 8239\n"
     ]
    }
   ],
   "source": [
    "def max_energised(graph):\n",
    "    maximum = 0\n",
    "    for i in range(0, len(graph)):\n",
    "        tmp_dist = BFS(graph, (i,0,0))\n",
    "        tmp_max = count_energised(graph, tmp_dist)\n",
    "        if tmp_max > maximum:\n",
    "            maximum = tmp_max\n",
    "            \n",
    "        tmp_dist = BFS(graph, (i,len(graph[i])-1,2))\n",
    "        tmp_max = count_energised(graph, tmp_dist)\n",
    "        if tmp_max > maximum:\n",
    "            maximum = tmp_max\n",
    "                       \n",
    "    for j in range(0, len(graph[0])):\n",
    "        tmp_dist = BFS(graph, (0,j,1))\n",
    "        tmp_max = count_energised(graph, tmp_dist)\n",
    "        if tmp_max > maximum:\n",
    "            maximum = tmp_max\n",
    "                       \n",
    "        tmp_dist = BFS(graph, (len(graph)-1,j,3))\n",
    "        tmp_max = count_energised(graph, tmp_dist)\n",
    "        if tmp_max > maximum:\n",
    "            maximum = tmp_max\n",
    "                       \n",
    "    return maximum\n",
    "\n",
    "print(max_energised(test_graph))\n",
    "print('Part 2 result:', max_energised(data_graph))"
   ]
  },
  {
   "cell_type": "code",
   "execution_count": null,
   "metadata": {},
   "outputs": [],
   "source": []
  }
 ],
 "metadata": {
  "kernelspec": {
   "display_name": "Python 3",
   "language": "python",
   "name": "python3"
  },
  "language_info": {
   "codemirror_mode": {
    "name": "ipython",
    "version": 3
   },
   "file_extension": ".py",
   "mimetype": "text/x-python",
   "name": "python",
   "nbconvert_exporter": "python",
   "pygments_lexer": "ipython3",
   "version": "3.9.12"
  }
 },
 "nbformat": 4,
 "nbformat_minor": 2
}
