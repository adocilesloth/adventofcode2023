{
 "cells": [
  {
   "cell_type": "code",
   "execution_count": 1,
   "metadata": {},
   "outputs": [],
   "source": [
    "import numpy as np"
   ]
  },
  {
   "cell_type": "code",
   "execution_count": 2,
   "metadata": {},
   "outputs": [],
   "source": [
    "test = ['1abc2',\n",
    "        'pqr3stu8vwx',\n",
    "        'a1b2c3d4e5f',\n",
    "        'treb7uchet']\n",
    "\n",
    "data = np.genfromtxt('day01_input.txt', dtype=str, delimiter='\\n')"
   ]
  },
  {
   "cell_type": "code",
   "execution_count": 3,
   "metadata": {},
   "outputs": [
    {
     "name": "stdout",
     "output_type": "stream",
     "text": [
      "142\n",
      "Part 1 result: 54239\n"
     ]
    }
   ],
   "source": [
    "def wordtoint(data):\n",
    "    wti = {'one':'1', 'two':'2', 'three':'3',\n",
    "           'four':'4', 'five':'5', 'six':'6',\n",
    "           'seven':'7', 'eight':'8', 'nine':'9',\n",
    "           'zero':'0'}\n",
    "    \n",
    "    digits = ''\n",
    "    for i in range(0, len(data)):\n",
    "        if data[i].isdigit():\n",
    "            digits += data[i]\n",
    "            continue\n",
    "        \n",
    "        for key, value in wti.items():\n",
    "            if len(data)-i >= len(key) and data[i:i+len(key)] == key:\n",
    "                digits += value\n",
    "                break\n",
    "    \n",
    "    return digits\n",
    "\n",
    "def calibrate(data, part=1):\n",
    "    values = []\n",
    "    for line in data:\n",
    "        if part == 1:\n",
    "            digits = ''.join([i for i in line if i.isdigit()])\n",
    "        elif part == 2:\n",
    "            digits = wordtoint(line)\n",
    "        digits = digits[0]+digits[-1]\n",
    "        values.append(int(digits))\n",
    "    return values\n",
    "\n",
    "print(np.sum(calibrate(test)))\n",
    "print('Part 1 result:', np.sum(calibrate(data)))"
   ]
  },
  {
   "cell_type": "code",
   "execution_count": 4,
   "metadata": {},
   "outputs": [
    {
     "name": "stdout",
     "output_type": "stream",
     "text": [
      "281\n",
      "Part 2 result: 55343\n"
     ]
    }
   ],
   "source": [
    "test2 = ['two1nine',\n",
    "         'eightwothree',\n",
    "         'abcone2threexyz',\n",
    "         'xtwone3four',\n",
    "         '4nineeightseven2',\n",
    "         'zoneight234',\n",
    "         '7pqrstsixteen']\n",
    "\n",
    "print(np.sum(calibrate(test2, 2)))\n",
    "print('Part 2 result:', np.sum(calibrate(data, 2)))"
   ]
  },
  {
   "cell_type": "code",
   "execution_count": null,
   "metadata": {},
   "outputs": [],
   "source": []
  }
 ],
 "metadata": {
  "kernelspec": {
   "display_name": "Python 3",
   "language": "python",
   "name": "python3"
  },
  "language_info": {
   "codemirror_mode": {
    "name": "ipython",
    "version": 3
   },
   "file_extension": ".py",
   "mimetype": "text/x-python",
   "name": "python",
   "nbconvert_exporter": "python",
   "pygments_lexer": "ipython3",
   "version": "3.7.4"
  }
 },
 "nbformat": 4,
 "nbformat_minor": 2
}
